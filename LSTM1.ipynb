{
 "cells": [
  {
   "cell_type": "code",
   "execution_count": 1,
   "metadata": {},
   "outputs": [],
   "source": [
    "import numpy as np\n",
    "import matplotlib.pyplot as plt\n",
    "import pandas as pd"
   ]
  },
  {
   "cell_type": "code",
   "execution_count": 82,
   "metadata": {},
   "outputs": [
    {
     "data": {
      "text/plain": [
       "(1238, 7)"
      ]
     },
     "execution_count": 82,
     "metadata": {},
     "output_type": "execute_result"
    }
   ],
   "source": [
    "apple_training_complete = pd.read_csv(r'/Users/harikrishnanagarajan/Downloads/GOOG-2.csv')\n",
    "apple_training_complete.shape"
   ]
  },
  {
   "cell_type": "code",
   "execution_count": 83,
   "metadata": {},
   "outputs": [],
   "source": [
    "apple_training_processed = apple_training_complete.iloc[:, 1:2].values"
   ]
  },
  {
   "cell_type": "code",
   "execution_count": 84,
   "metadata": {},
   "outputs": [
    {
     "data": {
      "text/plain": [
       "(1238, 1)"
      ]
     },
     "execution_count": 84,
     "metadata": {},
     "output_type": "execute_result"
    }
   ],
   "source": [
    "from sklearn.preprocessing import MinMaxScaler\n",
    "scaler = MinMaxScaler(feature_range = (0, 1))\n",
    "\n",
    "apple_training_scaled = scaler.fit_transform(apple_training_processed)\n",
    "apple_training_scaled.shape"
   ]
  },
  {
   "cell_type": "code",
   "execution_count": 86,
   "metadata": {},
   "outputs": [],
   "source": [
    "features_set = []\n",
    "labels = []\n",
    "for i in range(60, 1238):\n",
    "    features_set.append(apple_training_scaled[i-60:i, 0])\n",
    "    labels.append(apple_training_scaled[i, 0])"
   ]
  },
  {
   "cell_type": "code",
   "execution_count": 87,
   "metadata": {},
   "outputs": [],
   "source": [
    "features_set, labels = np.array(features_set), np.array(labels)"
   ]
  },
  {
   "cell_type": "code",
   "execution_count": 88,
   "metadata": {},
   "outputs": [],
   "source": [
    "features_set = np.reshape(features_set, (features_set.shape[0], features_set.shape[1], 1))"
   ]
  },
  {
   "cell_type": "code",
   "execution_count": 89,
   "metadata": {},
   "outputs": [],
   "source": [
    "from keras.models import Sequential\n",
    "from keras.layers import Dense\n",
    "from keras.layers import LSTM\n",
    "from keras.layers import Dropout"
   ]
  },
  {
   "cell_type": "code",
   "execution_count": 90,
   "metadata": {},
   "outputs": [],
   "source": [
    "model = Sequential()"
   ]
  },
  {
   "cell_type": "code",
   "execution_count": 91,
   "metadata": {},
   "outputs": [],
   "source": [
    "model.add(LSTM(units=50, return_sequences=True, input_shape=(features_set.shape[1], 1)))"
   ]
  },
  {
   "cell_type": "code",
   "execution_count": 92,
   "metadata": {},
   "outputs": [],
   "source": [
    "model.add(Dropout(0.2))"
   ]
  },
  {
   "cell_type": "code",
   "execution_count": 93,
   "metadata": {},
   "outputs": [],
   "source": [
    "model.add(LSTM(units=50, return_sequences=True))\n",
    "model.add(Dropout(0.2))\n",
    "\n",
    "model.add(LSTM(units=50, return_sequences=True))\n",
    "model.add(Dropout(0.2))\n",
    "\n",
    "model.add(LSTM(units=50))\n",
    "model.add(Dropout(0.2))"
   ]
  },
  {
   "cell_type": "code",
   "execution_count": 94,
   "metadata": {},
   "outputs": [],
   "source": [
    "model.add(Dense(units = 1))"
   ]
  },
  {
   "cell_type": "code",
   "execution_count": 95,
   "metadata": {},
   "outputs": [],
   "source": [
    "model.compile(optimizer = 'adam', loss = 'mean_absolute_percentage_error')"
   ]
  },
  {
   "cell_type": "code",
   "execution_count": 96,
   "metadata": {},
   "outputs": [
    {
     "name": "stdout",
     "output_type": "stream",
     "text": [
      "Epoch 1/100\n",
      "1178/1178 [==============================] - 23s 20ms/step - loss: 21.9757\n",
      "Epoch 2/100\n",
      "1178/1178 [==============================] - 14s 12ms/step - loss: 13.4448\n",
      "Epoch 3/100\n",
      "1178/1178 [==============================] - 12s 10ms/step - loss: 12.0630\n",
      "Epoch 4/100\n",
      "1178/1178 [==============================] - 12s 10ms/step - loss: 12.5958\n",
      "Epoch 5/100\n",
      "1178/1178 [==============================] - 12s 10ms/step - loss: 11.5893\n",
      "Epoch 6/100\n",
      "1178/1178 [==============================] - 13s 11ms/step - loss: 11.1125\n",
      "Epoch 7/100\n",
      "1178/1178 [==============================] - 13s 11ms/step - loss: 12.5527\n",
      "Epoch 8/100\n",
      "1178/1178 [==============================] - 14s 12ms/step - loss: 11.0928\n",
      "Epoch 9/100\n",
      "1178/1178 [==============================] - 15s 13ms/step - loss: 11.7847\n",
      "Epoch 10/100\n",
      "1178/1178 [==============================] - 15s 13ms/step - loss: 11.1541\n",
      "Epoch 11/100\n",
      "1178/1178 [==============================] - 13s 11ms/step - loss: 10.2593\n",
      "Epoch 12/100\n",
      "1178/1178 [==============================] - 13s 11ms/step - loss: 9.3562\n",
      "Epoch 13/100\n",
      "1178/1178 [==============================] - 14s 12ms/step - loss: 10.0792\n",
      "Epoch 14/100\n",
      "1178/1178 [==============================] - 14s 12ms/step - loss: 9.8296\n",
      "Epoch 15/100\n",
      "1178/1178 [==============================] - 16s 14ms/step - loss: 10.0228\n",
      "Epoch 16/100\n",
      "1178/1178 [==============================] - 18s 16ms/step - loss: 9.1429\n",
      "Epoch 17/100\n",
      "1178/1178 [==============================] - 16s 13ms/step - loss: 8.7931\n",
      "Epoch 18/100\n",
      "1178/1178 [==============================] - 12s 10ms/step - loss: 9.2807\n",
      "Epoch 19/100\n",
      "1178/1178 [==============================] - 12s 11ms/step - loss: 9.4323\n",
      "Epoch 20/100\n",
      "1178/1178 [==============================] - 12s 10ms/step - loss: 9.4190\n",
      "Epoch 21/100\n",
      "1178/1178 [==============================] - 13s 11ms/step - loss: 8.8571\n",
      "Epoch 22/100\n",
      "1178/1178 [==============================] - 12s 10ms/step - loss: 8.8413\n",
      "Epoch 23/100\n",
      "1178/1178 [==============================] - 17s 15ms/step - loss: 8.4750\n",
      "Epoch 24/100\n",
      "1178/1178 [==============================] - 13s 11ms/step - loss: 8.2653\n",
      "Epoch 25/100\n",
      "1178/1178 [==============================] - 11s 9ms/step - loss: 8.4788\n",
      "Epoch 26/100\n",
      "1178/1178 [==============================] - 14s 12ms/step - loss: 9.6459\n",
      "Epoch 27/100\n",
      "1178/1178 [==============================] - 12s 11ms/step - loss: 8.1954\n",
      "Epoch 28/100\n",
      "1178/1178 [==============================] - 12s 10ms/step - loss: 8.7053\n",
      "Epoch 29/100\n",
      "1178/1178 [==============================] - 12s 10ms/step - loss: 8.2464\n",
      "Epoch 30/100\n",
      "1178/1178 [==============================] - 13s 11ms/step - loss: 8.1493\n",
      "Epoch 31/100\n",
      "1178/1178 [==============================] - 12s 10ms/step - loss: 8.4403\n",
      "Epoch 32/100\n",
      "1178/1178 [==============================] - 11s 10ms/step - loss: 8.3955\n",
      "Epoch 33/100\n",
      "1178/1178 [==============================] - 13s 11ms/step - loss: 7.7942\n",
      "Epoch 34/100\n",
      "1178/1178 [==============================] - 14s 12ms/step - loss: 7.8834\n",
      "Epoch 35/100\n",
      "1178/1178 [==============================] - 14s 12ms/step - loss: 8.3298\n",
      "Epoch 36/100\n",
      "1178/1178 [==============================] - 15s 13ms/step - loss: 7.5818\n",
      "Epoch 37/100\n",
      "1178/1178 [==============================] - 14s 12ms/step - loss: 7.5304\n",
      "Epoch 38/100\n",
      "1178/1178 [==============================] - 13s 11ms/step - loss: 7.5707\n",
      "Epoch 39/100\n",
      "1178/1178 [==============================] - 12s 10ms/step - loss: 7.6071\n",
      "Epoch 40/100\n",
      "1178/1178 [==============================] - 13s 11ms/step - loss: 7.3001\n",
      "Epoch 41/100\n",
      "1178/1178 [==============================] - 12s 10ms/step - loss: 7.3239\n",
      "Epoch 42/100\n",
      "1178/1178 [==============================] - 13s 11ms/step - loss: 7.3383\n",
      "Epoch 43/100\n",
      "1178/1178 [==============================] - 12s 10ms/step - loss: 7.1808\n",
      "Epoch 44/100\n",
      "1178/1178 [==============================] - 12s 10ms/step - loss: 7.6625\n",
      "Epoch 45/100\n",
      "1178/1178 [==============================] - 12s 11ms/step - loss: 7.6623\n",
      "Epoch 46/100\n",
      "1178/1178 [==============================] - 14s 12ms/step - loss: 7.2691\n",
      "Epoch 47/100\n",
      "1178/1178 [==============================] - 13s 11ms/step - loss: 7.3584\n",
      "Epoch 48/100\n",
      "1178/1178 [==============================] - 13s 11ms/step - loss: 7.1973\n",
      "Epoch 49/100\n",
      "1178/1178 [==============================] - 11s 10ms/step - loss: 7.2508\n",
      "Epoch 50/100\n",
      "1178/1178 [==============================] - 11s 9ms/step - loss: 6.9516\n",
      "Epoch 51/100\n",
      "1178/1178 [==============================] - 12s 10ms/step - loss: 7.1431\n",
      "Epoch 52/100\n",
      "1178/1178 [==============================] - 11s 10ms/step - loss: 7.2088\n",
      "Epoch 53/100\n",
      "1178/1178 [==============================] - 12s 10ms/step - loss: 6.7236\n",
      "Epoch 54/100\n",
      "1178/1178 [==============================] - 12s 10ms/step - loss: 6.7660\n",
      "Epoch 55/100\n",
      "1178/1178 [==============================] - 12s 10ms/step - loss: 7.8707\n",
      "Epoch 56/100\n",
      "1178/1178 [==============================] - 11s 9ms/step - loss: 7.2835\n",
      "Epoch 57/100\n",
      "1178/1178 [==============================] - 11s 9ms/step - loss: 6.8648\n",
      "Epoch 58/100\n",
      "1178/1178 [==============================] - 11s 9ms/step - loss: 6.6938\n",
      "Epoch 59/100\n",
      "1178/1178 [==============================] - 11s 9ms/step - loss: 6.9089\n",
      "Epoch 60/100\n",
      "1178/1178 [==============================] - 11s 9ms/step - loss: 6.8261\n",
      "Epoch 61/100\n",
      "1178/1178 [==============================] - 11s 10ms/step - loss: 6.8698\n",
      "Epoch 62/100\n",
      "1178/1178 [==============================] - 11s 10ms/step - loss: 6.3709\n",
      "Epoch 63/100\n",
      "1178/1178 [==============================] - 11s 10ms/step - loss: 6.5586\n",
      "Epoch 64/100\n",
      "1178/1178 [==============================] - 12s 10ms/step - loss: 6.8672\n",
      "Epoch 65/100\n",
      "1178/1178 [==============================] - 11s 9ms/step - loss: 6.3771\n",
      "Epoch 66/100\n",
      "1178/1178 [==============================] - 11s 10ms/step - loss: 6.1194\n",
      "Epoch 67/100\n",
      "1178/1178 [==============================] - 11s 9ms/step - loss: 6.4391\n",
      "Epoch 68/100\n",
      "1178/1178 [==============================] - 11s 10ms/step - loss: 6.7639\n",
      "Epoch 69/100\n",
      "1178/1178 [==============================] - 12s 10ms/step - loss: 6.4667\n",
      "Epoch 70/100\n",
      "1178/1178 [==============================] - 11s 9ms/step - loss: 5.8918\n",
      "Epoch 71/100\n",
      "1178/1178 [==============================] - 11s 9ms/step - loss: 6.1246\n",
      "Epoch 72/100\n",
      "1178/1178 [==============================] - 12s 10ms/step - loss: 6.2005\n",
      "Epoch 73/100\n",
      "1178/1178 [==============================] - 11s 10ms/step - loss: 6.4646\n",
      "Epoch 74/100\n",
      "1178/1178 [==============================] - 14s 12ms/step - loss: 6.1761\n",
      "Epoch 75/100\n",
      "1178/1178 [==============================] - 11s 10ms/step - loss: 6.0747\n",
      "Epoch 76/100\n",
      "1178/1178 [==============================] - 11s 9ms/step - loss: 6.4527\n",
      "Epoch 77/100\n",
      "1178/1178 [==============================] - 12s 10ms/step - loss: 6.3720\n",
      "Epoch 78/100\n",
      "1178/1178 [==============================] - 11s 9ms/step - loss: 6.4357\n",
      "Epoch 79/100\n",
      "1178/1178 [==============================] - 11s 9ms/step - loss: 6.1123\n",
      "Epoch 80/100\n",
      "1178/1178 [==============================] - 11s 9ms/step - loss: 6.2949\n",
      "Epoch 81/100\n",
      "1178/1178 [==============================] - 11s 10ms/step - loss: 6.3501\n",
      "Epoch 82/100\n",
      "1178/1178 [==============================] - 11s 9ms/step - loss: 6.0479\n",
      "Epoch 83/100\n",
      "1178/1178 [==============================] - 13s 11ms/step - loss: 5.9609\n",
      "Epoch 84/100\n",
      "1178/1178 [==============================] - 11s 10ms/step - loss: 5.8891\n",
      "Epoch 85/100\n",
      "1178/1178 [==============================] - 11s 10ms/step - loss: 6.3871\n",
      "Epoch 86/100\n",
      "1178/1178 [==============================] - 11s 9ms/step - loss: 5.9178\n",
      "Epoch 87/100\n",
      "1178/1178 [==============================] - 10s 9ms/step - loss: 6.1045\n",
      "Epoch 88/100\n",
      "1178/1178 [==============================] - 11s 9ms/step - loss: 6.1776\n",
      "Epoch 89/100\n",
      "1178/1178 [==============================] - 11s 10ms/step - loss: 6.4322\n",
      "Epoch 90/100\n",
      "1178/1178 [==============================] - 11s 9ms/step - loss: 5.7984\n",
      "Epoch 91/100\n",
      "1178/1178 [==============================] - 11s 9ms/step - loss: 5.9109\n",
      "Epoch 92/100\n",
      "1178/1178 [==============================] - 12s 10ms/step - loss: 6.0711\n",
      "Epoch 93/100\n",
      "1178/1178 [==============================] - 11s 9ms/step - loss: 6.1152\n",
      "Epoch 94/100\n",
      "1178/1178 [==============================] - 11s 9ms/step - loss: 6.1526\n",
      "Epoch 95/100\n",
      "1178/1178 [==============================] - 11s 10ms/step - loss: 5.5999\n",
      "Epoch 96/100\n",
      "1178/1178 [==============================] - 11s 9ms/step - loss: 5.7490\n",
      "Epoch 97/100\n",
      "1178/1178 [==============================] - 11s 9ms/step - loss: 5.8922\n",
      "Epoch 98/100\n",
      "1178/1178 [==============================] - 12s 10ms/step - loss: 5.8194\n",
      "Epoch 99/100\n",
      "1178/1178 [==============================] - 11s 9ms/step - loss: 6.1929\n",
      "Epoch 100/100\n",
      "1178/1178 [==============================] - 11s 9ms/step - loss: 5.6197\n"
     ]
    },
    {
     "data": {
      "text/plain": [
       "<keras.callbacks.callbacks.History at 0x1a6555cd90>"
      ]
     },
     "execution_count": 96,
     "metadata": {},
     "output_type": "execute_result"
    }
   ],
   "source": [
    "model.fit(features_set, labels, epochs = 100, batch_size = 32)"
   ]
  },
  {
   "cell_type": "code",
   "execution_count": 97,
   "metadata": {},
   "outputs": [],
   "source": [
    "apple_testing_complete = pd.read_csv(r'/Users/harikrishnanagarajan/Downloads/GOOG-3.csv')\n",
    "apple_testing_processed = apple_testing_complete.iloc[:, 1:2].values"
   ]
  },
  {
   "cell_type": "code",
   "execution_count": 98,
   "metadata": {},
   "outputs": [],
   "source": [
    "apple_total = pd.concat((apple_training_complete['Open'], apple_testing_complete['Open']), axis=0)"
   ]
  },
  {
   "cell_type": "code",
   "execution_count": 99,
   "metadata": {},
   "outputs": [],
   "source": [
    "test_inputs = apple_total[len(apple_total) - len(apple_testing_complete) - 60:].values\n"
   ]
  },
  {
   "cell_type": "code",
   "execution_count": 100,
   "metadata": {},
   "outputs": [
    {
     "data": {
      "text/plain": [
       "(81, 1)"
      ]
     },
     "execution_count": 100,
     "metadata": {},
     "output_type": "execute_result"
    }
   ],
   "source": [
    "test_inputs = test_inputs.reshape(-1,1)\n",
    "test_inputs = scaler.transform(test_inputs)\n",
    "test_inputs.shape"
   ]
  },
  {
   "cell_type": "code",
   "execution_count": 101,
   "metadata": {},
   "outputs": [
    {
     "data": {
      "text/plain": [
       "21"
      ]
     },
     "execution_count": 101,
     "metadata": {},
     "output_type": "execute_result"
    }
   ],
   "source": [
    "test_features = []\n",
    "for i in range(60, 81):\n",
    "    test_features.append(test_inputs[i-60:i, 0])\n",
    "len(test_features)"
   ]
  },
  {
   "cell_type": "code",
   "execution_count": 102,
   "metadata": {},
   "outputs": [],
   "source": [
    "test_features = np.array(test_features)\n",
    "test_features = np.reshape(test_features, (test_features.shape[0], test_features.shape[1], 1))"
   ]
  },
  {
   "cell_type": "code",
   "execution_count": 103,
   "metadata": {},
   "outputs": [],
   "source": [
    "predictions = model.predict(test_features)"
   ]
  },
  {
   "cell_type": "code",
   "execution_count": 104,
   "metadata": {},
   "outputs": [],
   "source": [
    "predictions = scaler.inverse_transform(predictions)"
   ]
  },
  {
   "cell_type": "code",
   "execution_count": 1,
   "metadata": {},
   "outputs": [
    {
     "ename": "NameError",
     "evalue": "name 'plt' is not defined",
     "output_type": "error",
     "traceback": [
      "\u001b[1;31m---------------------------------------------------------------------------\u001b[0m",
      "\u001b[1;31mNameError\u001b[0m                                 Traceback (most recent call last)",
      "\u001b[1;32m<ipython-input-1-8086e6ad7968>\u001b[0m in \u001b[0;36m<module>\u001b[1;34m\u001b[0m\n\u001b[1;32m----> 1\u001b[1;33m \u001b[0mplt\u001b[0m\u001b[1;33m.\u001b[0m\u001b[0mfigure\u001b[0m\u001b[1;33m(\u001b[0m\u001b[0mfigsize\u001b[0m\u001b[1;33m=\u001b[0m\u001b[1;33m(\u001b[0m\u001b[1;36m10\u001b[0m\u001b[1;33m,\u001b[0m\u001b[1;36m6\u001b[0m\u001b[1;33m)\u001b[0m\u001b[1;33m)\u001b[0m\u001b[1;33m\u001b[0m\u001b[1;33m\u001b[0m\u001b[0m\n\u001b[0m\u001b[0;32m      2\u001b[0m \u001b[0mplt\u001b[0m\u001b[1;33m.\u001b[0m\u001b[0mplot\u001b[0m\u001b[1;33m(\u001b[0m\u001b[0mapple_testing_processed\u001b[0m\u001b[1;33m,\u001b[0m \u001b[0mcolor\u001b[0m\u001b[1;33m=\u001b[0m\u001b[1;34m'blue'\u001b[0m\u001b[1;33m,\u001b[0m \u001b[0mlabel\u001b[0m\u001b[1;33m=\u001b[0m\u001b[1;34m'Actual Google Stock Price'\u001b[0m\u001b[1;33m)\u001b[0m\u001b[1;33m\u001b[0m\u001b[1;33m\u001b[0m\u001b[0m\n\u001b[0;32m      3\u001b[0m \u001b[0mplt\u001b[0m\u001b[1;33m.\u001b[0m\u001b[0mplot\u001b[0m\u001b[1;33m(\u001b[0m\u001b[0mpredictions\u001b[0m \u001b[1;33m,\u001b[0m \u001b[0mcolor\u001b[0m\u001b[1;33m=\u001b[0m\u001b[1;34m'red'\u001b[0m\u001b[1;33m,\u001b[0m \u001b[0mlabel\u001b[0m\u001b[1;33m=\u001b[0m\u001b[1;34m'Predicted Google Stock Price'\u001b[0m\u001b[1;33m)\u001b[0m\u001b[1;33m\u001b[0m\u001b[1;33m\u001b[0m\u001b[0m\n\u001b[0;32m      4\u001b[0m \u001b[0mplt\u001b[0m\u001b[1;33m.\u001b[0m\u001b[0mtitle\u001b[0m\u001b[1;33m(\u001b[0m\u001b[1;34m'Google Stock Price Prediction'\u001b[0m\u001b[1;33m)\u001b[0m\u001b[1;33m\u001b[0m\u001b[1;33m\u001b[0m\u001b[0m\n\u001b[0;32m      5\u001b[0m \u001b[0mplt\u001b[0m\u001b[1;33m.\u001b[0m\u001b[0mxlabel\u001b[0m\u001b[1;33m(\u001b[0m\u001b[1;34m'time'\u001b[0m\u001b[1;33m)\u001b[0m\u001b[1;33m\u001b[0m\u001b[1;33m\u001b[0m\u001b[0m\n",
      "\u001b[1;31mNameError\u001b[0m: name 'plt' is not defined"
     ]
    }
   ],
   "source": [
    "plt.figure(figsize=(10,6))\n",
    "plt.plot(apple_testing_processed, color='blue', label='Actual Google Stock Price')\n",
    "plt.plot(predictions , color='red', label='Predicted Google Stock Price')\n",
    "plt.title('Google Stock Price Prediction')\n",
    "plt.xlabel('time')\n",
    "plt.ylabel('Google Stock Price')\n",
    "plt.legend()\n",
    "plt.show()"
   ]
  },
  {
   "cell_type": "code",
   "execution_count": null,
   "metadata": {},
   "outputs": [],
   "source": []
  }
 ],
 "metadata": {
  "kernelspec": {
   "display_name": "Python 3",
   "language": "python",
   "name": "python3"
  },
  "language_info": {
   "codemirror_mode": {
    "name": "ipython",
    "version": 3
   },
   "file_extension": ".py",
   "mimetype": "text/x-python",
   "name": "python",
   "nbconvert_exporter": "python",
   "pygments_lexer": "ipython3",
   "version": "3.6.8"
  }
 },
 "nbformat": 4,
 "nbformat_minor": 4
}
